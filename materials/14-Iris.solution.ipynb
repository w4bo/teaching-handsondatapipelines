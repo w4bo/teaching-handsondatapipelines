{
 "cells": [
  {
   "cell_type": "markdown",
   "metadata": {
    "colab_type": "text",
    "id": "view-in-github"
   },
   "source": [
    "<a href=\"https://colab.research.google.com/github/w4bo/handsOnDataPipelines/blob/main/01-MachineLearning/03-Iris.solution.ipynb\" target=\"_parent\"><img src=\"https://colab.research.google.com/assets/colab-badge.svg\" alt=\"Open In Colab\"/></a>"
   ]
  },
  {
   "cell_type": "markdown",
   "metadata": {
    "id": "n9xbo7UdQbaz"
   },
   "source": [
    "# The IRIS challenge\n",
    "\n",
    "### Goal\n",
    "\n",
    "It is your job to predict the species for each iris plant. For each iris plant, you must predict the `Species` variable. \n",
    "\n",
    "### Metric\n",
    "\n",
    "Submissions are evaluated using the accuracy score. When splitting train and test datasets, the test dataset should contain 40% of the data.\n",
    "\n",
    "### Requirements\n",
    "\n",
    "You are allowed to use `numpy`, `pandas`, `matplotlib`, `sns`, and `sk-learn` Python libraries. You can import any model from `sk-learn`."
   ]
  },
  {
   "cell_type": "code",
   "execution_count": null,
   "metadata": {
    "_cell_guid": "417ebd30-953c-492a-b185-9bb2742e9fee",
    "_uuid": "f118af7ce42b355fae7faa8db9d5d0157611517d",
    "id": "hfFvjMJoQba0",
    "jupyter": {
     "outputs_hidden": true
    }
   },
   "outputs": [],
   "source": [
    "import numpy as np\n",
    "import pandas as pd\n",
    "import seaborn as sns\n",
    "sns.set_palette('husl')\n",
    "import matplotlib.pyplot as plt\n",
    "%matplotlib inline\n",
    "\n",
    "from sklearn import metrics\n",
    "from sklearn.neighbors import KNeighborsClassifier\n",
    "from sklearn.linear_model import LogisticRegression\n",
    "from sklearn.model_selection import train_test_split\n",
    "\n",
    "# df = pd.read_csv('datasets/iris.csv')\n",
    "df = pd.read_csv('https://raw.githubusercontent.com/w4bo/handsOnDataPipelines/main/01-MachineLearning/datasets/iris.csv')"
   ]
  },
  {
   "cell_type": "markdown",
   "metadata": {
    "_cell_guid": "8c64d903-f69b-4983-8748-8522e8fe2bbf",
    "_uuid": "afeecf9d79fc1c4d87f459e7405d79a4f6cbef0a",
    "id": "1ErnCWRhQba2"
   },
   "source": [
    "## Data understanding\n",
    "\n",
    "Hints\n",
    "- There are 150 observations with 4 features each (sepal length, sepal width, petal length, petal width).\n",
    "- Each observation is labelled with a `Species`\n",
    "\n",
    "Take a first glance to the `df`\n",
    "- Do we consider all features?\n",
    "- Are there null values?\n",
    "- Which are the attribute types?\n",
    "- Which are the attribute ranges?\n",
    "- How many labels?\n",
    "- Are classes unbalanced? "
   ]
  },
  {
   "cell_type": "code",
   "execution_count": null,
   "metadata": {
    "_cell_guid": "ae265ce5-40f4-447c-aea0-d5ddbe4abeb5",
    "_uuid": "07bf049c5cabf2ecb75818c4e103e94fcf1e49d4",
    "id": "nkatRVK7Qba3"
   },
   "outputs": [],
   "source": [
    "df"
   ]
  },
  {
   "cell_type": "code",
   "execution_count": null,
   "metadata": {
    "_cell_guid": "9257acb0-2b8b-42f5-bc7d-6c08976469f5",
    "_uuid": "84a4b1dbfb7b5a89d3c73e1113482b4b50985b14",
    "id": "7rkO-OXrQba5"
   },
   "outputs": [],
   "source": [
    "df.info()"
   ]
  },
  {
   "cell_type": "code",
   "execution_count": null,
   "metadata": {
    "_uuid": "2f51406bff802aae1c0efa7289434a9b60f13bee",
    "id": "FT_5nnYbQba6"
   },
   "outputs": [],
   "source": [
    "df.describe()"
   ]
  },
  {
   "cell_type": "code",
   "execution_count": null,
   "metadata": {
    "_cell_guid": "13958377-5c7c-420b-b06f-ad5998c59665",
    "_uuid": "876817fced0db3d4bbbd95a64359f124ee6707c4",
    "id": "he-gGvyAQba7"
   },
   "outputs": [],
   "source": [
    "df['Species'].value_counts()"
   ]
  },
  {
   "cell_type": "markdown",
   "metadata": {
    "id": "WmT4QEsEQba8"
   },
   "source": [
    "### Summing up\n",
    "\n",
    "| Question | Answer | Do we need action? |\n",
    "| -        | -      | - |\n",
    "| Are the null values? | No | No imputation |\n",
    "|Which are the attribute types? | All attributes are numeric | No encoding | \n",
    "|Which are the attribute ranges? | Attribute ranges are similar | No normalization |\n",
    "|How many labels? | 3 | - |\n",
    "|Are classes unbalanced? | No, classess are equally distributed | No rebalancing |\n",
    "\n",
    "IRIS is a simple dataset, it is useful for this lab but is not really representative for real-world ML tasks."
   ]
  },
  {
   "cell_type": "markdown",
   "metadata": {
    "_cell_guid": "2a1077f5-b314-4040-a309-59fc1b8d6c15",
    "_uuid": "a67d48fef35b8e62a47774ced7f9a4ae4b562858",
    "id": "R6SiP7GwQba9"
   },
   "source": [
    "### Data visualization"
   ]
  },
  {
   "cell_type": "markdown",
   "metadata": {
    "id": "PqCPRUMSQba-"
   },
   "source": [
    "Check the value distribution"
   ]
  },
  {
   "cell_type": "code",
   "execution_count": null,
   "metadata": {
    "id": "NkZIfUXwQba-"
   },
   "outputs": [],
   "source": [
    "tmp = df.drop('Id', axis=1)\n",
    "tmp.hist(bins=50, figsize=(20,15))\n",
    "plt.show()"
   ]
  },
  {
   "cell_type": "markdown",
   "metadata": {
    "id": "rdGVneXhQba_"
   },
   "source": [
    "Check variable relationships"
   ]
  },
  {
   "cell_type": "code",
   "execution_count": null,
   "metadata": {
    "_cell_guid": "13293bbc-e587-4085-916f-ac5bafbbfaf0",
    "_uuid": "fd15b6089651f32d213555b27b7ffbc0655b6447",
    "id": "fyg_amteQbbA",
    "scrolled": true
   },
   "outputs": [],
   "source": [
    "g = sns.pairplot(tmp, hue='Species', markers='+')\n",
    "plt.show()"
   ]
  },
  {
   "cell_type": "code",
   "execution_count": null,
   "metadata": {
    "_uuid": "cee3e44ff3c1a3a28ad1eb1df02ead6b331e083a",
    "id": "O1V1gVKPQbbB",
    "scrolled": true
   },
   "outputs": [],
   "source": [
    "g = sns.violinplot(y='Species', x='SepalLengthCm', data=df, inner='quartile')\n",
    "plt.show()\n",
    "g = sns.violinplot(y='Species', x='SepalWidthCm', data=df, inner='quartile')\n",
    "plt.show()\n",
    "g = sns.violinplot(y='Species', x='PetalLengthCm', data=df, inner='quartile')\n",
    "plt.show()\n",
    "g = sns.violinplot(y='Species', x='PetalWidthCm', data=df, inner='quartile')\n",
    "plt.show()"
   ]
  },
  {
   "cell_type": "code",
   "execution_count": null,
   "metadata": {
    "id": "8Rgzgm7MQbbB",
    "scrolled": true
   },
   "outputs": [],
   "source": [
    "from scipy.stats import pearsonr\n",
    "rho = tmp.corr(method ='pearson')\n",
    "pval = tmp.corr(method=lambda x, y: pearsonr(x, y)[1]) - np.eye(*rho.shape)\n",
    "p = pval.applymap(lambda x: ''.join(['*' for t in [0.01, 0.05, 0.1] if x <= t]))\n",
    "rho.round(2).astype(str) + p"
   ]
  },
  {
   "cell_type": "code",
   "execution_count": null,
   "metadata": {
    "id": "cXBbF9ACQbbB"
   },
   "outputs": [],
   "source": [
    "min_corr = 0.3\n",
    "kot = rho[(abs(rho) >= min_corr) & (rho < 1)]\n",
    "plt.figure(figsize=(8, 6))\n",
    "sns.heatmap(kot, cmap=sns.color_palette(\"coolwarm\", as_cmap=True)) "
   ]
  },
  {
   "cell_type": "markdown",
   "metadata": {
    "id": "e7zfX0cSQbbC"
   },
   "source": [
    "#### Summing up\n",
    "\n",
    "- After graphing the features in a pair plot, it is clear that the relationship between pairs of features of a iris-setosa (in pink) is distinctly different from those of the other two species.\n",
    "- There is some overlap in the pairwise relationships of the other two species, iris-versicolor (brown) and iris-virginica (green)."
   ]
  },
  {
   "cell_type": "markdown",
   "metadata": {
    "_cell_guid": "5fe31716-3cd8-444a-a17f-bed7659afd0f",
    "_uuid": "edf8f09be66977b2258436e6a9128d6639469d01",
    "id": "A0gymQXDQbbC"
   },
   "source": [
    "## Modeling with scikit-learn\n",
    "\n",
    "Preparing the dataset for the ML pipeline.\n",
    "- X: the dataset\n",
    "- y: the labels"
   ]
  },
  {
   "cell_type": "code",
   "execution_count": null,
   "metadata": {
    "_cell_guid": "20c0f613-e162-4473-8292-4eca12c7343f",
    "_uuid": "8a9c62f5fe8a7e0a78896d0edac6cf769a6b1751",
    "id": "H0WZ1eDxQbbD"
   },
   "outputs": [],
   "source": [
    "X = df.drop(['Id', 'Species'], axis=1)\n",
    "y = df['Species']\n",
    "# print(X.head())\n",
    "print(X.shape)\n",
    "# print(y.head())\n",
    "print(y.shape)"
   ]
  },
  {
   "cell_type": "code",
   "execution_count": null,
   "metadata": {
    "id": "6sZa0FDSQbbD"
   },
   "outputs": [],
   "source": [
    "X"
   ]
  },
  {
   "cell_type": "code",
   "execution_count": null,
   "metadata": {
    "id": "oFkcC0xjQbbE"
   },
   "outputs": [],
   "source": [
    "y"
   ]
  },
  {
   "cell_type": "markdown",
   "metadata": {
    "_cell_guid": "523d62f1-7606-495d-9baa-31aa386e1cbf",
    "_uuid": "3a94f4ab9ad99a6f3df882e201623d241454ef1c",
    "id": "OEMB55siQbbE"
   },
   "source": [
    "## Train and test on the same dataset\n",
    "\n",
    "- Pick a classifier from SKLearn (e.g., logistic regression, decision tree, random forest, k-NN classifier) and train your model on the entire dataset"
   ]
  },
  {
   "cell_type": "code",
   "execution_count": null,
   "metadata": {
    "_cell_guid": "b41bb2bc-dfec-4991-8f54-e5cf219f371e",
    "_uuid": "9ecc7d9e7029cfe7f60b83cda36751618b9a7346",
    "id": "nI2EjIukQbbF",
    "scrolled": true
   },
   "outputs": [],
   "source": [
    "# experimenting with different n values\n",
    "k_range = list(range(1,26))\n",
    "scores = []\n",
    "for k in k_range:\n",
    "    knn = KNeighborsClassifier(n_neighbors=k)\n",
    "    knn.fit(X, y)\n",
    "    y_pred = knn.predict(X)\n",
    "    scores.append(metrics.accuracy_score(y, y_pred))\n",
    "    \n",
    "plt.plot(k_range, scores)\n",
    "plt.xticks(k_range)\n",
    "plt.xlabel('Value of k for KNN')\n",
    "plt.ylabel('Accuracy Score')\n",
    "plt.title('Accuracy Scores for Values of k of k-Nearest-Neighbors')\n",
    "plt.show()"
   ]
  },
  {
   "cell_type": "code",
   "execution_count": null,
   "metadata": {
    "_cell_guid": "f5e7d4d9-a028-416a-ad91-8790871a2fef",
    "_uuid": "db94036d672e0556b6e6cc2182cd12deb4b2759e",
    "id": "Mfww1lLTQbbF",
    "scrolled": true
   },
   "outputs": [],
   "source": [
    "logreg = LogisticRegression()\n",
    "logreg.fit(X, y)\n",
    "y_pred = logreg.predict(X)\n",
    "print(metrics.accuracy_score(y, y_pred))"
   ]
  },
  {
   "cell_type": "markdown",
   "metadata": {
    "id": "u6psJNNTQbbF"
   },
   "source": [
    "### Summing up\n",
    "\n",
    "- Training on the entire dataset *is not* suggested since the end goal is to predict iris species using a dataset the model has not seen before.\n",
    "- There is also a *high* risk of overfitting the training data."
   ]
  },
  {
   "cell_type": "markdown",
   "metadata": {
    "_cell_guid": "aff6f799-de47-4b8b-936f-0a5179a2f9e4",
    "_uuid": "d4a1c0d5b0d7d25fd28e28a8a74e3b75f78e6729",
    "id": "X55UuWJ4QbbG"
   },
   "source": [
    "## Split the dataset into a training set and a testing set\n",
    "\n",
    "### Advantages\n",
    "- By splitting the dataset pseudo-randomly into a two separate sets, we can train using one set and test using another.\n",
    "- This ensures that we won't use the same observations in both sets.\n",
    "- More flexible and faster than creating a model using all of the dataset for training.\n",
    "\n",
    "### Disadvantages\n",
    "- The accuracy scores for the testing set can vary depending on what observations are in the set. \n",
    "- This disadvantage can be countered using k-fold cross-validation.\n",
    "\n",
    "### Notes\n",
    "- The accuracy score of the models depends on the observations in the testing set, which is determined by the seed of the pseudo-random number generator (random_state parameter).\n",
    "- As a model's complexity increases, the training accuracy (accuracy you get when you train and test the model on the same data) increases.\n",
    "- If a model is too complex or not complex enough, the testing accuracy is lower.\n",
    "- For KNN models, the value of k determines the level of complexity. A lower value of k means that the model is more complex."
   ]
  },
  {
   "cell_type": "markdown",
   "metadata": {
    "id": "lafXP7l0QbbG"
   },
   "source": [
    "Split the training and test sets such that the test set contains 40% of the data"
   ]
  },
  {
   "cell_type": "code",
   "execution_count": null,
   "metadata": {
    "_cell_guid": "d26420d7-e35c-4bf4-99da-d328993d7a87",
    "_uuid": "d94645e7f6bd8b969240ab3803074014fefcf54b",
    "id": "lDzUTx8rQbbG",
    "scrolled": true
   },
   "outputs": [],
   "source": [
    "X_train, X_test, y_train, y_test = train_test_split(X, y, test_size=0.4, random_state=5)\n",
    "print(X_train.shape)\n",
    "print(y_train.shape)\n",
    "print(X_test.shape)\n",
    "print(y_test.shape)"
   ]
  },
  {
   "cell_type": "markdown",
   "metadata": {
    "id": "v03zG6z2QbbH"
   },
   "source": [
    "Fit your model and try it with several parameters"
   ]
  },
  {
   "cell_type": "code",
   "execution_count": null,
   "metadata": {
    "_cell_guid": "113f9c35-bf95-4b5e-8515-099bba3ea7d6",
    "_uuid": "93af51b74e09a4b0b48b07023e5752e03beb0d69",
    "id": "nbqRKhARQbbH"
   },
   "outputs": [],
   "source": [
    "# experimenting with different n values\n",
    "k_range = list(range(1,26))\n",
    "scores = []\n",
    "for k in k_range:\n",
    "    knn = KNeighborsClassifier(n_neighbors=k)\n",
    "    knn.fit(X_train, y_train)\n",
    "    y_pred = knn.predict(X_test)\n",
    "    scores.append(metrics.accuracy_score(y_test, y_pred))\n",
    "    \n",
    "plt.plot(k_range, scores)\n",
    "plt.xticks(k_range)\n",
    "plt.xlabel('Value of k for KNN')\n",
    "plt.ylabel('Accuracy Score')\n",
    "plt.title('Accuracy Scores for Values of k of k-Nearest-Neighbors')\n",
    "plt.show()"
   ]
  },
  {
   "cell_type": "markdown",
   "metadata": {
    "id": "iXCjIiPiQbbH"
   },
   "source": [
    "You can also try different models (check https://scikit-learn.org/stable/auto_examples/classification/plot_classifier_comparison.html)"
   ]
  },
  {
   "cell_type": "code",
   "execution_count": null,
   "metadata": {
    "_cell_guid": "30c17d80-1031-4aee-b83e-3f82b2243949",
    "_uuid": "a6f63f861456de86dbd19bc5943ab29a79fa55ad",
    "id": "8uAj_lPvQbbI"
   },
   "outputs": [],
   "source": [
    "logreg = LogisticRegression()\n",
    "logreg.fit(X_train, y_train)\n",
    "y_pred = logreg.predict(X_test)\n",
    "print(metrics.accuracy_score(y_test, y_pred))"
   ]
  },
  {
   "cell_type": "markdown",
   "metadata": {
    "_cell_guid": "9fa29c1f-fe13-4ae2-804a-0545fa327b63",
    "_uuid": "b366c043483734afad62a823915112d00a2fe912",
    "id": "yasEhUuDQbbI"
   },
   "source": [
    "Predict the outcome of an unseen observation (hint use the `.predict()` method)"
   ]
  },
  {
   "cell_type": "code",
   "execution_count": null,
   "metadata": {
    "_uuid": "b94a6f120e4a08ae48c16e8f5c3c7cb2ca387f4a",
    "id": "20Sft--0QbbJ"
   },
   "outputs": [],
   "source": [
    "# To train the model on the entire dataset\n",
    "knn = KNeighborsClassifier(n_neighbors=12)\n",
    "knn.fit(X, y)\n",
    "y_pred = knn.predict(X)\n",
    "metrics.accuracy_score(y, y_pred)"
   ]
  },
  {
   "cell_type": "code",
   "execution_count": null,
   "metadata": {
    "id": "rg_yklzeQbbK"
   },
   "outputs": [],
   "source": [
    "# make a prediction for an example of an out-of-sample observation\n",
    "knn.predict([[6, 3, 4, 2]])"
   ]
  },
  {
   "cell_type": "code",
   "execution_count": null,
   "metadata": {
    "id": "3vxOH-RPQbbK"
   },
   "outputs": [],
   "source": [
    "logreg.predict([[6, 3, 4, 2]])"
   ]
  }
 ],
 "metadata": {
  "colab": {
   "include_colab_link": true,
   "name": "03-Iris.solution.ipynb",
   "provenance": []
  },
  "kernelspec": {
   "display_name": "Python 3 (ipykernel)",
   "language": "python",
   "name": "python3"
  },
  "language_info": {
   "codemirror_mode": {
    "name": "ipython",
    "version": 3
   },
   "file_extension": ".py",
   "mimetype": "text/x-python",
   "name": "python",
   "nbconvert_exporter": "python",
   "pygments_lexer": "ipython3",
   "version": "3.10.4"
  }
 },
 "nbformat": 4,
 "nbformat_minor": 1
}
