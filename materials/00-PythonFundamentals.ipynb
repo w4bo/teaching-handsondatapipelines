{
  "cells": [
    {
      "cell_type": "markdown",
      "metadata": {
        "id": "view-in-github",
        "colab_type": "text"
      },
      "source": [
        "<a href=\"https://colab.research.google.com/github/w4bo/handsOnDataPipelines/blob/main/materials/00-PythonFundamentals.ipynb\" target=\"_parent\"><img src=\"https://colab.research.google.com/assets/colab-badge.svg\" alt=\"Open In Colab\"/></a>"
      ]
    },
    {
      "cell_type": "markdown",
      "id": "196192da",
      "metadata": {
        "id": "196192da"
      },
      "source": [
        "Python was created by Guido van Rossum in the early 90s. It’s basically executable pseudocode.\n",
        "Check also: https://learnxinyminutes.com/docs/python/"
      ]
    },
    {
      "cell_type": "code",
      "execution_count": null,
      "id": "79157e9a",
      "metadata": {
        "id": "79157e9a"
      },
      "outputs": [],
      "source": [
        "# This is a comment\n",
        "\"Hello, world!\" # This is also a comment"
      ]
    },
    {
      "cell_type": "markdown",
      "id": "b8c2822a",
      "metadata": {
        "id": "b8c2822a"
      },
      "source": [
        "Doing some math"
      ]
    },
    {
      "cell_type": "code",
      "execution_count": null,
      "id": "bd04823c",
      "metadata": {
        "id": "bd04823c"
      },
      "outputs": [],
      "source": [
        "# Math is what you would expect\n",
        "1 + 1   # => 2\n",
        "8 - 1   # => 7\n",
        "10 * 2  # => 20\n",
        "35 / 5  # => 7.0\n",
        "# Modulo operation\n",
        "7 % 3   # => 1\n",
        "# Exponentiation (x**y, x to the yth power)\n",
        "2 ** 3  # => 8"
      ]
    },
    {
      "cell_type": "markdown",
      "id": "b1dc7076",
      "metadata": {
        "id": "b1dc7076"
      },
      "source": [
        "Boolean variables"
      ]
    },
    {
      "cell_type": "code",
      "execution_count": null,
      "id": "f03fc55e",
      "metadata": {
        "id": "f03fc55e"
      },
      "outputs": [],
      "source": [
        "# negate with not\n",
        "not True   # => False\n",
        "not False  # => True\n",
        "# Boolean Operators\n",
        "# Note \"and\" and \"or\" are case-sensitive\n",
        "True and False  # => False\n",
        "False or True   # => True\n",
        "\n",
        "# True and False are actually 1 and 0 but with different keywords\n",
        "True + True # => 2\n",
        "True * 8    # => 8\n",
        "False - 5   # => -5\n",
        "\n",
        "# Equality is ==\n",
        "1 == 1  # => True\n",
        "2 == 1  # => False\n",
        "\n",
        "# Inequality is !=\n",
        "1 != 1  # => False\n",
        "2 != 1  # => True\n",
        "\n",
        "# More comparisons\n",
        "1 < 10  # => True\n",
        "1 > 10  # => False\n",
        "2 <= 2  # => True\n",
        "2 >= 2  # => True"
      ]
    },
    {
      "cell_type": "markdown",
      "id": "c190a84b",
      "metadata": {
        "id": "c190a84b"
      },
      "source": [
        "Printing some values"
      ]
    },
    {
      "cell_type": "code",
      "execution_count": null,
      "id": "d5787682",
      "metadata": {
        "scrolled": true,
        "id": "d5787682"
      },
      "outputs": [],
      "source": [
        "# Python has a print function\n",
        "print(\"I'm Python. Nice to meet you!\")  # => I'm Python. Nice to meet you!\n",
        "\n",
        "# By default the print function also prints out a newline at the end.\n",
        "# Use the optional argument end to change the end string.\n",
        "print(\"Hello, World\", end=\"!\")  # => Hello, World!"
      ]
    },
    {
      "cell_type": "markdown",
      "id": "7d2339e2",
      "metadata": {
        "id": "7d2339e2"
      },
      "source": [
        "Variables and collections"
      ]
    },
    {
      "cell_type": "code",
      "execution_count": null,
      "id": "7729b400",
      "metadata": {
        "id": "7729b400"
      },
      "outputs": [],
      "source": [
        "# There are no declarations, only assignments.\n",
        "# Convention is to use lower_case_with_underscores\n",
        "some_var = 5\n",
        "\n",
        "# Lists\n",
        "li = []         # empty list\n",
        "li.append(1)    # li is now [1]\n",
        "li.append(2)    # li is now [1, 2]\n",
        "li.append(4)    # li is now [1, 2, 4]\n",
        "li.append(3)    # li is now [1, 2, 4, 3]\n",
        "li[0]           # => 1\n",
        "li[1:3]   # Return list from index 1 to 3 => [2, 4]\n",
        "# Examine the length with \"len()\"\n",
        "len(li)  # => 4\n",
        "\n",
        "# You can start with a prefilled list\n",
        "other_li = [1, 2, 3, 4]\n",
        "\n",
        "# Dictionaries store mappings from keys to values\n",
        "empty_dict = {}\n",
        "# Here is a prefilled dictionary\n",
        "filled_dict = {\"one\": 1, \"two\": 2, \"three\": 3}\n",
        "\n",
        "# Sets\n",
        "empty_set = set()\n",
        "# Initialize a set with a bunch of values. Yeah, it looks a bit like a dict. Sorry.\n",
        "some_set = {1, 1, 2, 2, 3, 4}  # some_set is now {1, 2, 3, 4}"
      ]
    },
    {
      "cell_type": "markdown",
      "id": "79a2d2a1",
      "metadata": {
        "id": "79a2d2a1"
      },
      "source": [
        "Control flow"
      ]
    },
    {
      "cell_type": "code",
      "execution_count": null,
      "id": "b7c44105",
      "metadata": {
        "scrolled": true,
        "id": "b7c44105"
      },
      "outputs": [],
      "source": [
        "# Let's just make a variable\n",
        "some_var = 5\n",
        "\n",
        "# Here is an if statement. Indentation is significant in Python!\n",
        "if some_var > 10:\n",
        "    print(\"some_var is totally bigger than 10.\")\n",
        "elif some_var < 10:    # This elif clause is optional.\n",
        "    print(\"some_var is smaller than 10.\")\n",
        "else:                  # This is optional too.\n",
        "    print(\"some_var is indeed 10.\")\n",
        "\n",
        "\n",
        "\"\"\"\n",
        "For loops iterate over lists\n",
        "prints:\n",
        "    dog is a mammal\n",
        "    cat is a mammal\n",
        "    mouse is a mammal\n",
        "\"\"\"\n",
        "for animal in [\"dog\", \"cat\", \"mouse\"]:\n",
        "    # You can use format() to interpolate formatted strings\n",
        "    print(\"{} is a mammal\".format(animal))"
      ]
    },
    {
      "cell_type": "markdown",
      "id": "24b5efa2",
      "metadata": {
        "id": "24b5efa2"
      },
      "source": [
        "Defining some functions"
      ]
    },
    {
      "cell_type": "code",
      "execution_count": null,
      "id": "5fd74100",
      "metadata": {
        "id": "5fd74100"
      },
      "outputs": [],
      "source": [
        "# Use \"def\" to create new functions\n",
        "def add(x, y):\n",
        "    print(\"x is {} and y is {}\".format(x, y))\n",
        "    return x + y  # Return values with a return statement\n",
        "\n",
        "# Calling functions with parameters\n",
        "add(5, 6)  # => prints out \"x is 5 and y is 6\" and returns 11"
      ]
    },
    {
      "cell_type": "markdown",
      "id": "dccedd8f",
      "metadata": {
        "id": "dccedd8f"
      },
      "source": [
        "Importing some modules"
      ]
    },
    {
      "cell_type": "code",
      "execution_count": null,
      "id": "ae91d0e6",
      "metadata": {
        "id": "ae91d0e6"
      },
      "outputs": [],
      "source": [
        "# You can import modules\n",
        "import numpy as np\n",
        "import pandas as pd"
      ]
    },
    {
      "cell_type": "markdown",
      "id": "5eb748d6",
      "metadata": {
        "id": "5eb748d6"
      },
      "source": [
        "#### Hands on!\n",
        "\n",
        "Check the code above, and complete the following instructions"
      ]
    },
    {
      "cell_type": "code",
      "execution_count": null,
      "id": "9814842c",
      "metadata": {
        "id": "9814842c"
      },
      "outputs": [],
      "source": [
        "# initialize a variable `foo` with value 10\n",
        "\n",
        "# initialize a variable `bar` with value 5\n",
        "\n",
        "# if `foo` is higher than `bar` then print \"Higher\", else print \"Lower\""
      ]
    }
  ],
  "metadata": {
    "kernelspec": {
      "display_name": "Python 3 (ipykernel)",
      "language": "python",
      "name": "python3"
    },
    "language_info": {
      "codemirror_mode": {
        "name": "ipython",
        "version": 3
      },
      "file_extension": ".py",
      "mimetype": "text/x-python",
      "name": "python",
      "nbconvert_exporter": "python",
      "pygments_lexer": "ipython3",
      "version": "3.8.11"
    },
    "colab": {
      "provenance": [],
      "include_colab_link": true
    }
  },
  "nbformat": 4,
  "nbformat_minor": 5
}