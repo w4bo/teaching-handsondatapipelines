{
  "cells": [
    {
      "cell_type": "markdown",
      "metadata": {
        "id": "view-in-github",
        "colab_type": "text"
      },
      "source": [
        "<a href=\"https://colab.research.google.com/github/w4bo/2022-bbs-dm/blob/main/notebooks/04-Iris.ipynb\" target=\"_parent\"><img src=\"https://colab.research.google.com/assets/colab-badge.svg\" alt=\"Open In Colab\"/></a>"
      ]
    },
    {
      "cell_type": "markdown",
      "metadata": {
        "id": "n9xbo7UdQbaz"
      },
      "source": [
        "# The IRIS challenge\n",
        "\n",
        "### Goal\n",
        "\n",
        "It is your job to predict the species for each iris plant. For each iris plant, you must predict the `Species` variable. \n",
        "\n",
        "### Metric\n",
        "\n",
        "Submissions are evaluated using the accuracy score. When splitting train and test datasets, the test dataset should contain 40% of the data.\n",
        "\n",
        "### Requirements\n",
        "\n",
        "You are allowed to use `numpy`, `pandas`, `matplotlib`, `sns`, and `sk-learn` Python libraries. You can import any model from `sk-learn`."
      ]
    },
    {
      "cell_type": "code",
      "execution_count": null,
      "metadata": {
        "_cell_guid": "417ebd30-953c-492a-b185-9bb2742e9fee",
        "_uuid": "f118af7ce42b355fae7faa8db9d5d0157611517d",
        "jupyter": {
          "outputs_hidden": true
        },
        "id": "hfFvjMJoQba0"
      },
      "outputs": [],
      "source": [
        "import numpy as np\n",
        "import pandas as pd\n",
        "import seaborn as sns\n",
        "sns.set_palette('husl')\n",
        "import matplotlib.pyplot as plt\n",
        "%matplotlib inline\n",
        "\n",
        "from sklearn import metrics\n",
        "from sklearn.neighbors import KNeighborsClassifier\n",
        "from sklearn.model_selection import train_test_split\n",
        "\n",
        "# df = pd.read_csv('datasets/iris.csv')\n",
        "df = pd.read_csv('https://raw.githubusercontent.com/w4bo/handsOnDataPipelines/main/01-MachineLearning/datasets/iris.csv')"
      ]
    },
    {
      "cell_type": "markdown",
      "metadata": {
        "_cell_guid": "8c64d903-f69b-4983-8748-8522e8fe2bbf",
        "_uuid": "afeecf9d79fc1c4d87f459e7405d79a4f6cbef0a",
        "id": "1ErnCWRhQba2"
      },
      "source": [
        "## Data understanding\n",
        "\n",
        "Hints\n",
        "- There are 150 observations with 4 features each (sepal length, sepal width, petal length, petal width).\n",
        "- Each observation is labelled with a `Species`\n",
        "\n",
        "Take a first glance to the `df`\n",
        "- Do we consider all features?\n",
        "- Are there null values?\n",
        "- Which are the attribute types?\n",
        "- Which are the attribute ranges?\n",
        "- How many labels?\n",
        "- Are classes unbalanced? "
      ]
    }
  ],
  "metadata": {
    "kernelspec": {
      "display_name": "Python 3 (ipykernel)",
      "language": "python",
      "name": "python3"
    },
    "language_info": {
      "codemirror_mode": {
        "name": "ipython",
        "version": 3
      },
      "file_extension": ".py",
      "mimetype": "text/x-python",
      "name": "python",
      "nbconvert_exporter": "python",
      "pygments_lexer": "ipython3",
      "version": "3.9.4"
    },
    "colab": {
      "name": "03-Iris.solution.ipynb",
      "provenance": [],
      "include_colab_link": true
    }
  },
  "nbformat": 4,
  "nbformat_minor": 0
}