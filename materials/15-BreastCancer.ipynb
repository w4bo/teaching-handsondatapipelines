{
  "cells": [
    {
      "cell_type": "markdown",
      "metadata": {
        "id": "view-in-github",
        "colab_type": "text"
      },
      "source": [
        "<a href=\"https://colab.research.google.com/github/w4bo/2022-bbs-dm/blob/main/notebooks/05-BreastCancer.ipynb\" target=\"_parent\"><img src=\"https://colab.research.google.com/assets/colab-badge.svg\" alt=\"Open In Colab\"/></a>"
      ]
    },
    {
      "cell_type": "markdown",
      "metadata": {
        "_cell_guid": "ae0f114b-aa26-5802-345f-83fd12c570fe",
        "id": "BT1cUdptTRIv"
      },
      "source": [
        "# The `BreastCancer` challenge\n",
        "\n",
        "### Goal\n",
        "\n",
        "It is your job to predict the `diagnosis` for each data item.\n",
        "\n",
        "### Metric\n",
        "\n",
        "Submissions are evaluated using the accuracy score. When splitting train and test datasets, the test dataset should contain 30% of the data.\n",
        "\n",
        "### Requirements\n",
        "\n",
        "You are allowed to use `numpy`, `pandas`, `matplotlib`, `sns`, and `sk-learn` Python libraries. You can import any model from `sk-learn`."
      ]
    },
    {
      "cell_type": "code",
      "execution_count": null,
      "metadata": {
        "_cell_guid": "e3200e6e-62d4-1d74-496b-c5197a574dcb",
        "id": "chtXn7o-TRIy"
      },
      "outputs": [],
      "source": [
        "# Import the libraries used for machine learning\n",
        "import numpy as np # linear algebra\n",
        "import pandas as pd # data processing, CSV file I/O (e.g. pd.read_csv), data manipulation as in SQL\n",
        "import matplotlib.pyplot as plt # this is used for the plot the graph \n",
        "import seaborn as sns # used for plot interactive graph. I like it most for plot\n",
        "%matplotlib inline\n",
        "from sklearn.model_selection import train_test_split # to split the data into two parts\n",
        "from sklearn.neighbors import KNeighborsClassifier\n",
        "from sklearn import metrics # for the check the error and accuracy of the model\n",
        "import random\n",
        "import os\n",
        "\n",
        "# SEED all random generators\n",
        "seed = 42\n",
        "random.seed(seed)\n",
        "os.environ['PYTHONHASHSEED'] = str(seed)\n",
        "np.random.seed(seed)\n",
        "\n",
        "# read the data\n",
        "# df = pd.read_csv(\"datasets/breastcancer.csv\")\n",
        "df = pd.read_csv(\"https://raw.githubusercontent.com/w4bo/handsOnDataPipelines/main/01-MachineLearning/datasets/breastcancer.csv\")"
      ]
    },
    {
      "cell_type": "markdown",
      "metadata": {
        "id": "htswCay8TRI0"
      },
      "source": [
        "## Data understanding\n",
        "\n",
        "Hints\n",
        "\n",
        "- There are 569 observations with 30 features each\n",
        "- Each observation is labelled with a `diagnosis`\n",
        "\n",
        "Take a first glance to the dataset\n",
        "- Do we consider all features?\n",
        "- Are there null values?\n",
        "- Which are the attribute types?\n",
        "- Which are the attribute ranges?\n",
        "- How many labels?\n",
        "- Are classes unbalanced?\n",
        "\n"
      ]
    },
    {
      "cell_type": "code",
      "execution_count": null,
      "metadata": {
        "_cell_guid": "7036d299-0057-db0a-d892-fe212c0d612c",
        "id": "nVcG-ZNBTRI1"
      },
      "outputs": [],
      "source": [
        "df"
      ]
    },
    {
      "cell_type": "code",
      "execution_count": null,
      "metadata": {
        "_cell_guid": "1109ea03-5b73-25fa-72ca-6695de4b0c5b",
        "id": "lmVbuHfuTRI2"
      },
      "outputs": [],
      "source": [
        "df.info()"
      ]
    },
    {
      "cell_type": "markdown",
      "metadata": {
        "id": "dMmSLBGwTRI3"
      },
      "source": [
        "### Feature semantics\n",
        "\n",
        "Hint:\n",
        "- id of the observation\n",
        "- diagnosis (M = malignant, B = benign)\n",
        "- Ten real-valued features are computed for each cell nucleus:\n",
        "    - radius (mean of distances from center to points on the perimeter)\n",
        "    - texture (standard deviation of gray-scale values)\n",
        "    - perimeter\n",
        "    - area\n",
        "    - smoothness (local variation in radius lengths)\n",
        "    - compactness (perimeter^2 / area - 1.0)\n",
        "    - concavity (severity of concave portions of the contour)\n",
        "    - concave points (number of concave portions of the contour)\n",
        "    - symmetry\n",
        "    - fractal dimension (\"coastline approximation\" - 1)\n",
        "\n",
        "`*_mean`: the means of all cells\n",
        "\n",
        "`*_se`: standard error of all cells\n",
        "\n",
        "`*_worst`: the worst cell\n"
      ]
    }
  ],
  "metadata": {
    "_change_revision": 0,
    "_is_fork": false,
    "kernelspec": {
      "display_name": "Python 3 (ipykernel)",
      "language": "python",
      "name": "python3"
    },
    "language_info": {
      "codemirror_mode": {
        "name": "ipython",
        "version": 3
      },
      "file_extension": ".py",
      "mimetype": "text/x-python",
      "name": "python",
      "nbconvert_exporter": "python",
      "pygments_lexer": "ipython3",
      "version": "3.9.4"
    },
    "colab": {
      "name": "04-BreastCancer.solution.ipynb",
      "provenance": [],
      "include_colab_link": true
    }
  },
  "nbformat": 4,
  "nbformat_minor": 0
}