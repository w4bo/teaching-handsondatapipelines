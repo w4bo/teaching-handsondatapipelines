{
 "cells": [
  {
   "cell_type": "markdown",
   "metadata": {
    "colab_type": "text",
    "id": "view-in-github"
   },
   "source": [
    "<a href=\"https://colab.research.google.com/github/w4bo/handsOnDataPipelines/blob/main/01-MachineLearning/06-Diabetes.solution.ipynb\" target=\"_parent\"><img src=\"https://colab.research.google.com/assets/colab-badge.svg\" alt=\"Open In Colab\"/></a>"
   ]
  },
  {
   "cell_type": "markdown",
   "metadata": {
    "id": "n9xbo7UdQbaz"
   },
   "source": [
    "# The `Diabetes` challenge\n",
    "\n",
    "### Goal\n",
    "\n",
    "It is your job to predict the `Outcome` of diabetes for each patient. \n",
    "\n",
    "### TODO\n",
    "\n",
    "You are allowed to use `numpy`, `pandas`, `matplotlib`, `sns`, and `sk-learn` Python libraries. You can import any model from `sk-learn`.\n",
    "\n",
    "You are asked to fulfill the following steps; remember to write your insights on the dataset in the card below.\n",
    "\n",
    "1. Feature pre-processing (e.g., remove useless features, impute missing values, encode some features)\n",
    "2. Verify the distribution of \"Outcome\" values\n",
    "3. Check pairwise correlations among features\n",
    "4. Split training and test data. When splitting train and test datasets, the test dataset should contain 30% of the data.\n",
    "5. Plot the training dataset in 2D, are the outcomes separated?\n",
    "6. Train at least two ML classification models; submissions are evaluated using the accuracy score.\n",
    "7. Perform hyperparameter optimization for at least one model"
   ]
  },
  {
   "cell_type": "code",
   "execution_count": null,
   "metadata": {
    "id": "0XZLeoy-QVjK"
   },
   "outputs": [],
   "source": [
    "# Briefly explain *HERE* the overall steps of your solution (e.g., what did you do and why).\n",
    "# Briefly write the extracted outcome/insights of each of the previous points here. "
   ]
  },
  {
   "cell_type": "code",
   "execution_count": null,
   "metadata": {
    "_cell_guid": "417ebd30-953c-492a-b185-9bb2742e9fee",
    "_uuid": "f118af7ce42b355fae7faa8db9d5d0157611517d",
    "id": "hfFvjMJoQba0",
    "jupyter": {
     "outputs_hidden": true
    }
   },
   "outputs": [],
   "source": [
    "import matplotlib.pyplot as plt\n",
    "import numpy as np\n",
    "import os\n",
    "import pandas as pd\n",
    "import random\n",
    "from scipy.stats import randint\n",
    "import seaborn as sns\n",
    "from sklearn import metrics\n",
    "\n",
    "# SEED all random generators\n",
    "seed = 42\n",
    "random.seed(seed)\n",
    "os.environ['PYTHONHASHSEED'] = str(seed)\n",
    "np.random.seed(seed)\n",
    "\n",
    "df = pd.read_csv(\"https://raw.githubusercontent.com/w4bo/handsOnDataPipelines/main/materials/datasets/diabetes.mod.csv\")"
   ]
  },
  {
   "cell_type": "code",
   "execution_count": null,
   "metadata": {
    "colab": {
     "base_uri": "https://localhost:8080/",
     "height": 424
    },
    "id": "OfzC3NDwQVjM",
    "outputId": "9f8f69cb-714c-4224-e6dc-64f49650232c"
   },
   "outputs": [],
   "source": [
    "df"
   ]
  },
  {
   "cell_type": "code",
   "execution_count": null,
   "metadata": {
    "colab": {
     "base_uri": "https://localhost:8080/",
     "height": 300
    },
    "id": "azqRoAOAQVjM",
    "outputId": "874b2d26-4aa9-48d1-f062-9db0b16f9256"
   },
   "outputs": [],
   "source": [
    "df.describe()"
   ]
  },
  {
   "cell_type": "code",
   "execution_count": null,
   "metadata": {
    "colab": {
     "base_uri": "https://localhost:8080/"
    },
    "id": "dL7RXLUKQVjO",
    "outputId": "d214cd9c-d32e-4522-d1b4-50c26fc2d5e3"
   },
   "outputs": [],
   "source": [
    "df.info()"
   ]
  },
  {
   "cell_type": "markdown",
   "metadata": {
    "id": "TUq4kWh1QVjO"
   },
   "source": [
    "Remove useless columns"
   ]
  },
  {
   "cell_type": "code",
   "execution_count": null,
   "metadata": {
    "id": "oDbKG7qPQVjO"
   },
   "outputs": [],
   "source": [
    "df.drop(columns=[\"Unnamed: 0\"], inplace=True)"
   ]
  },
  {
   "cell_type": "markdown",
   "metadata": {
    "id": "BNGhBDIMQVjP"
   },
   "source": [
    "Encode the variables"
   ]
  },
  {
   "cell_type": "code",
   "execution_count": null,
   "metadata": {
    "id": "6ySEs5ASQVjP"
   },
   "outputs": [],
   "source": [
    "df[\"Outcome\"] = df[\"Outcome\"].apply(lambda x: 1 if x == \"Y\" else 0)"
   ]
  },
  {
   "cell_type": "markdown",
   "metadata": {
    "id": "WMgtexTEQVjQ"
   },
   "source": [
    "Fill out the missing values with the mean"
   ]
  },
  {
   "cell_type": "code",
   "execution_count": null,
   "metadata": {
    "id": "8AfMPboFQVjQ"
   },
   "outputs": [],
   "source": [
    "df[\"BMI\"].replace(np.nan, df[\"BMI\"].mean(), inplace=True)"
   ]
  },
  {
   "cell_type": "code",
   "execution_count": null,
   "metadata": {
    "colab": {
     "base_uri": "https://localhost:8080/"
    },
    "id": "RnbV_ewjQVjS",
    "outputId": "ac3b3eba-ad0e-433b-e634-dd0a98733388"
   },
   "outputs": [],
   "source": [
    "df.info()"
   ]
  },
  {
   "cell_type": "markdown",
   "metadata": {
    "id": "28qi5IulQVjS"
   },
   "source": [
    "Checkout the label distribution"
   ]
  },
  {
   "cell_type": "code",
   "execution_count": null,
   "metadata": {
    "colab": {
     "base_uri": "https://localhost:8080/",
     "height": 353
    },
    "id": "bwm_eFnNQVjT",
    "outputId": "f02f0f7a-2956-467d-e28c-5a30d192e853",
    "scrolled": true
   },
   "outputs": [],
   "source": [
    "sns.countplot(df['Outcome'], label=\"Count\")"
   ]
  },
  {
   "cell_type": "markdown",
   "metadata": {
    "id": "xhfdqjuQQVjT"
   },
   "source": [
    "Check pairwise correlations among variables"
   ]
  },
  {
   "cell_type": "code",
   "execution_count": null,
   "metadata": {
    "colab": {
     "base_uri": "https://localhost:8080/",
     "height": 1000
    },
    "id": "6_Rs-HNTQVjT",
    "outputId": "aef68716-5502-4e7e-c201-c9b08e06d60a"
   },
   "outputs": [],
   "source": [
    "g = sns.pairplot(df, hue='Outcome', markers='+')\n",
    "plt.show()"
   ]
  },
  {
   "cell_type": "markdown",
   "metadata": {
    "id": "k3q3QRo0QVjU"
   },
   "source": [
    "Split training and test data"
   ]
  },
  {
   "cell_type": "code",
   "execution_count": null,
   "metadata": {
    "colab": {
     "base_uri": "https://localhost:8080/"
    },
    "id": "MUWO1o0UQVjU",
    "outputId": "42e6c1f3-d40d-4a85-f850-04e98133b784"
   },
   "outputs": [],
   "source": [
    "from sklearn.model_selection import train_test_split # to split the data into two parts\n",
    "X = df.drop(columns=[\"Outcome\"])\n",
    "y = df[\"Outcome\"]\n",
    "X_train, X_test, y_train, y_test = train_test_split(X, y, test_size=0.3)\n",
    "print(X_train.shape)\n",
    "print(y_train.shape)\n",
    "print(X_test.shape)\n",
    "print(y_test.shape)"
   ]
  },
  {
   "cell_type": "markdown",
   "metadata": {
    "id": "QAr76thDQVjU"
   },
   "source": [
    "Plot training data into 2D"
   ]
  },
  {
   "cell_type": "code",
   "execution_count": null,
   "metadata": {
    "colab": {
     "base_uri": "https://localhost:8080/",
     "height": 283
    },
    "id": "NYzI23H-QVjV",
    "outputId": "a2f1ff14-2124-4a8d-d088-cbb15cdcc64c"
   },
   "outputs": [],
   "source": [
    "from sklearn.decomposition import PCA\n",
    "\n",
    "pca = PCA(n_components=2)\n",
    "result = pca.fit_transform(X_train)\n",
    "\n",
    "plt.scatter(\n",
    "    x=result[:,0], \n",
    "    y=result[:,1], \n",
    "    c=y_train,\n",
    "    cmap='viridis'\n",
    ")"
   ]
  },
  {
   "cell_type": "code",
   "execution_count": null,
   "metadata": {
    "colab": {
     "base_uri": "https://localhost:8080/",
     "height": 354
    },
    "id": "aAYaC1XnQVjV",
    "outputId": "f8224317-0e2d-4b83-ade5-6ad8e48e640b",
    "scrolled": true
   },
   "outputs": [],
   "source": [
    "from sklearn.manifold import TSNE\n",
    "\n",
    "tsne = TSNE(n_components=2)\n",
    "result = tsne.fit_transform(X_train.head(2000))\n",
    "\n",
    "plt.scatter(\n",
    "    x=result[:,0], \n",
    "    y=result[:,1], \n",
    "    c=y_train,\n",
    "    cmap='viridis'\n",
    ")"
   ]
  },
  {
   "cell_type": "markdown",
   "metadata": {
    "id": "FcX2rtysQVjV"
   },
   "source": [
    "Training k-NN"
   ]
  },
  {
   "cell_type": "code",
   "execution_count": null,
   "metadata": {
    "colab": {
     "base_uri": "https://localhost:8080/",
     "height": 509
    },
    "id": "0keQvFdHQVjV",
    "outputId": "cc4fb8d5-d0b1-4fff-cd4f-1793a76cea7d",
    "scrolled": true
   },
   "outputs": [],
   "source": [
    "from sklearn.neighbors import KNeighborsClassifier\n",
    "def fit_knn(X_train, y_train, X_test, y_test):\n",
    "    k_range = list(range(1, 30))\n",
    "    scores = []\n",
    "    for k in k_range:\n",
    "        knn = KNeighborsClassifier(n_neighbors=k)\n",
    "        knn.fit(X_train, y_train)\n",
    "        y_pred = knn.predict(X_test)\n",
    "        scores.append(metrics.accuracy_score(y_test, y_pred))\n",
    "    print(max(scores))\n",
    "    plt.plot(k_range, scores)\n",
    "    plt.xticks(k_range)\n",
    "    plt.xlabel('Value of k for KNN')\n",
    "    plt.ylabel('Accuracy Score')\n",
    "    plt.title('k-Nearest-Neighbors')\n",
    "    plt.show()\n",
    "    return y_pred\n",
    "\n",
    "fit_knn(X_train, y_train, X_test, y_test)"
   ]
  },
  {
   "cell_type": "markdown",
   "metadata": {
    "id": "2Uje85OGQVjV"
   },
   "source": [
    "Training a random forest"
   ]
  },
  {
   "cell_type": "code",
   "execution_count": null,
   "metadata": {
    "colab": {
     "base_uri": "https://localhost:8080/"
    },
    "id": "9qpPiZYnQVjW",
    "outputId": "a5f20fda-1377-47bb-e91f-988fdbef13a3"
   },
   "outputs": [],
   "source": [
    "from sklearn.ensemble import RandomForestClassifier # import the model\n",
    "\n",
    "def run_forest(n_estimators, max_features):\n",
    "    # initialize the model (i.e., the estimator)\n",
    "    forest = RandomForestClassifier(n_estimators=n_estimators, max_features=max_features, random_state=42)\n",
    "    forest.fit(X_train, y_train) # train it\n",
    "    y_pred = forest.predict(X_test) # predict the cost of houses in the test set\n",
    "    print(metrics.accuracy_score(y_test, y_pred))\n",
    "    return y_pred\n",
    "run_forest(100, \"auto\")"
   ]
  },
  {
   "cell_type": "markdown",
   "metadata": {
    "id": "AMiU8SWFQVjW"
   },
   "source": [
    "Random search optimization"
   ]
  },
  {
   "cell_type": "code",
   "execution_count": null,
   "metadata": {
    "colab": {
     "base_uri": "https://localhost:8080/"
    },
    "id": "V2E2uIAcQVjX",
    "outputId": "bcbe6795-1a1b-4889-dbd1-13d227576e2c"
   },
   "outputs": [],
   "source": [
    "from sklearn.model_selection import RandomizedSearchCV # for tuning parameter\n",
    "model = RandomForestClassifier()\n",
    "\n",
    "param_grid = {\n",
    "    'n_estimators': [10, 50, 100],\n",
    "    'criterion': ['gini', 'entropy'],\n",
    "    'max_depth': [3, 6, 9, None],\n",
    "    'min_samples_split': range(2, 11),\n",
    "    'bootstrap': [True, False],\n",
    "}\n",
    "\n",
    "# lets Make a function for Grid Search CV\n",
    "def gridsearch_cv(model,param_grid, X_train, y_train):\n",
    "    clf = RandomizedSearchCV(model, param_grid, cv=5, scoring=\"accuracy\", n_jobs=2)\n",
    "    clf.fit(X_train, y_train)\n",
    "    print(\"The best estimator is \" + str(clf.best_estimator_))\n",
    "    print(\"The best score is \" + str(clf.best_score_))\n",
    "\n",
    "gridsearch_cv(model, param_grid, X, y)"
   ]
  }
 ],
 "metadata": {
  "colab": {
   "include_colab_link": true,
   "name": "03-Iris.solution.ipynb",
   "provenance": []
  },
  "kernelspec": {
   "display_name": "Python 3 (ipykernel)",
   "language": "python",
   "name": "python3"
  },
  "language_info": {
   "codemirror_mode": {
    "name": "ipython",
    "version": 3
   },
   "file_extension": ".py",
   "mimetype": "text/x-python",
   "name": "python",
   "nbconvert_exporter": "python",
   "pygments_lexer": "ipython3",
   "version": "3.10.8"
  },
  "vscode": {
   "interpreter": {
    "hash": "369f2c481f4da34e4445cda3fffd2e751bd1c4d706f27375911949ba6bb62e1c"
   }
  }
 },
 "nbformat": 4,
 "nbformat_minor": 1
}
