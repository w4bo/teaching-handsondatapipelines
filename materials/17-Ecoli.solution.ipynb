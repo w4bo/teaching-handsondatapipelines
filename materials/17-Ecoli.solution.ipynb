{
  "cells": [
    {
      "cell_type": "markdown",
      "metadata": {
        "id": "view-in-github",
        "colab_type": "text"
      },
      "source": [
        "<a href=\"https://colab.research.google.com/github/w4bo/teaching-handsondatapipelines/blob/main/materials/17-Ecoli.solution.ipynb\" target=\"_parent\"><img src=\"https://colab.research.google.com/assets/colab-badge.svg\" alt=\"Open In Colab\"/></a>"
      ]
    },
    {
      "cell_type": "markdown",
      "id": "733a86cb",
      "metadata": {
        "id": "733a86cb"
      },
      "source": [
        "# The `Ecoli` challenge\n",
        "\n",
        "### Goal\n",
        "\n",
        "It is your job to predict the `SITE` label.\n",
        "\n",
        "### TODO\n",
        "\n",
        "You are allowed to use `numpy`, `pandas`, `matplotlib`, `sns`, and `sk-learn` Python libraries. You can import any model from `sk-learn`.\n",
        "\n",
        "You are asked to fulfill the following steps; remember to write your insights on the dataset in the card below.\n",
        "\n",
        "1. Feature pre-processing (e.g., remove useless features, impute missing values, encode some features)\n",
        "2. Verify the distribution of \"Outcome\" values\n",
        "3. Check pairwise correlations among features\n",
        "4. Split training and test data. When splitting train and test datasets, the test dataset should contain 30% of the data.\n",
        "5. Plot the training dataset in 2D, are the outcomes separated?\n",
        "6. Train at least two ML classification models; submissions are evaluated using the accuracy score.\n",
        "7. Perform hyperparameter optimization for at least one model"
      ]
    },
    {
      "cell_type": "code",
      "execution_count": null,
      "id": "ecc87293",
      "metadata": {
        "id": "ecc87293"
      },
      "outputs": [],
      "source": [
        "# Briefly explain *HERE* the overall steps of your solution (e.g., what did you do and why).\n",
        "# Briefly write the extracted outcome/insights of each of the previous points here."
      ]
    },
    {
      "cell_type": "code",
      "execution_count": null,
      "id": "254d62a3",
      "metadata": {
        "id": "254d62a3"
      },
      "outputs": [],
      "source": [
        "import matplotlib.pyplot as plt\n",
        "import numpy as np\n",
        "import os\n",
        "import pandas as pd\n",
        "import random\n",
        "from scipy.stats import randint\n",
        "import seaborn as sns\n",
        "from sklearn import metrics\n",
        "\n",
        "# SEED all random generators\n",
        "seed = 42\n",
        "random.seed(seed)\n",
        "os.environ['PYTHONHASHSEED'] = str(seed)\n",
        "np.random.seed(seed)\n",
        "\n",
        "df = pd.read_csv(\"https://raw.githubusercontent.com/w4bo/handsOnDataPipelines/main/materials/datasets/ecoli.csv\")"
      ]
    },
    {
      "cell_type": "code",
      "execution_count": null,
      "id": "63649a93",
      "metadata": {
        "id": "63649a93"
      },
      "outputs": [],
      "source": [
        "df"
      ]
    },
    {
      "cell_type": "code",
      "execution_count": null,
      "id": "cde48bff",
      "metadata": {
        "id": "cde48bff"
      },
      "outputs": [],
      "source": [
        "del df['SEQUENCE_NAME']\n",
        "df.head()"
      ]
    },
    {
      "cell_type": "code",
      "execution_count": null,
      "id": "f60656ae",
      "metadata": {
        "id": "f60656ae"
      },
      "outputs": [],
      "source": [
        "df.describe()"
      ]
    },
    {
      "cell_type": "code",
      "execution_count": null,
      "id": "ffd8ceb1",
      "metadata": {
        "scrolled": true,
        "id": "ffd8ceb1"
      },
      "outputs": [],
      "source": [
        "df.info()"
      ]
    },
    {
      "cell_type": "code",
      "execution_count": null,
      "id": "a9a1e408",
      "metadata": {
        "scrolled": true,
        "id": "a9a1e408"
      },
      "outputs": [],
      "source": [
        "sns.countplot(data=df, x='SITE', hue='SITE')"
      ]
    },
    {
      "cell_type": "code",
      "execution_count": null,
      "id": "dabd839f",
      "metadata": {
        "scrolled": true,
        "id": "dabd839f"
      },
      "outputs": [],
      "source": [
        "g = sns.pairplot(df, hue='SITE')\n",
        "plt.show()"
      ]
    },
    {
      "cell_type": "code",
      "execution_count": null,
      "id": "a03a709c",
      "metadata": {
        "id": "a03a709c"
      },
      "outputs": [],
      "source": [
        "scale_mapper = { x: idx for idx, x in enumerate(df[\"SITE\"].unique()) }\n",
        "df[\"SITE\"] = df[\"SITE\"].replace(scale_mapper)\n",
        "df[\"SITE\"]"
      ]
    },
    {
      "cell_type": "markdown",
      "id": "bc3626d1",
      "metadata": {
        "id": "bc3626d1"
      },
      "source": [
        "Check pairwise correlations among variables"
      ]
    },
    {
      "cell_type": "code",
      "execution_count": null,
      "id": "28cdf87d",
      "metadata": {
        "id": "28cdf87d"
      },
      "outputs": [],
      "source": [
        "from sklearn.model_selection import train_test_split # to split the data into two parts\n",
        "X = df.drop(columns=[\"SITE\"])\n",
        "y = df[\"SITE\"]\n",
        "X_train, X_test, y_train, y_test = train_test_split(X, y, test_size=0.3)\n",
        "print(X_train.shape)\n",
        "print(y_train.shape)\n",
        "print(X_test.shape)\n",
        "print(y_test.shape)"
      ]
    },
    {
      "cell_type": "markdown",
      "id": "80dc128c",
      "metadata": {
        "id": "80dc128c"
      },
      "source": [
        "Plot training data into 2D"
      ]
    },
    {
      "cell_type": "code",
      "execution_count": null,
      "id": "8d1ca53c",
      "metadata": {
        "id": "8d1ca53c"
      },
      "outputs": [],
      "source": [
        "from sklearn.decomposition import PCA\n",
        "\n",
        "pca = PCA(n_components=2)\n",
        "result = pca.fit_transform(X_train)\n",
        "\n",
        "plt.scatter(\n",
        "    x=result[:,0],\n",
        "    y=result[:,1],\n",
        "    c=y_train,\n",
        "    cmap='viridis'\n",
        ")"
      ]
    },
    {
      "cell_type": "code",
      "execution_count": null,
      "id": "eca0606c",
      "metadata": {
        "id": "eca0606c"
      },
      "outputs": [],
      "source": [
        "from sklearn.manifold import TSNE\n",
        "\n",
        "tsne = TSNE(n_components=2)\n",
        "result = tsne.fit_transform(X_train.head(2000))\n",
        "\n",
        "plt.scatter(\n",
        "    x=result[:,0],\n",
        "    y=result[:,1],\n",
        "    c=y_train,\n",
        "    cmap='viridis'\n",
        ")"
      ]
    },
    {
      "cell_type": "code",
      "execution_count": null,
      "id": "e360b35a",
      "metadata": {
        "scrolled": true,
        "id": "e360b35a"
      },
      "outputs": [],
      "source": [
        "from sklearn.neighbors import KNeighborsClassifier\n",
        "def fit_knn(X_train, y_train, X_test, y_test):\n",
        "    k_range = list(range(1, 30))\n",
        "    scores = []\n",
        "    for k in k_range:\n",
        "        knn = KNeighborsClassifier(n_neighbors=k)\n",
        "        knn.fit(X_train, y_train)\n",
        "        y_pred = knn.predict(X_test)\n",
        "        scores.append(metrics.accuracy_score(y_test, y_pred))\n",
        "    print(max(scores))\n",
        "    plt.plot(k_range, scores)\n",
        "    plt.xticks(k_range)\n",
        "    plt.xlabel('Value of k for KNN')\n",
        "    plt.ylabel('Accuracy Score')\n",
        "    plt.title('k-Nearest-Neighbors')\n",
        "    plt.show()\n",
        "    return y_pred\n",
        "\n",
        "fit_knn(X_train, y_train, X_test, y_test)"
      ]
    },
    {
      "cell_type": "code",
      "execution_count": null,
      "id": "1fb08c6a",
      "metadata": {
        "id": "1fb08c6a"
      },
      "outputs": [],
      "source": [
        "from sklearn.ensemble import RandomForestClassifier # import the model\n",
        "\n",
        "def run_forest(n_estimators, max_features):\n",
        "    # initialize the model (i.e., the estimator)\n",
        "    forest = RandomForestClassifier(n_estimators=n_estimators, max_features=max_features, random_state=42)\n",
        "    forest.fit(X_train, y_train) # train it\n",
        "    y_pred = forest.predict(X_test) # predict the cost of houses in the test set\n",
        "    print(metrics.accuracy_score(y_test, y_pred))\n",
        "    return y_pred\n",
        "y_pred = run_forest(100, \"auto\")"
      ]
    },
    {
      "cell_type": "code",
      "execution_count": null,
      "id": "fb9e6d00",
      "metadata": {
        "id": "fb9e6d00"
      },
      "outputs": [],
      "source": [
        "from sklearn.metrics import accuracy_score, classification_report\n",
        "print(\"Accuracy : {}%\".format(accuracy_score(y_test, y_pred) * 100))\n",
        "print(\"Classification Report: \\n\",classification_report(y_test, y_pred))"
      ]
    },
    {
      "cell_type": "code",
      "execution_count": null,
      "id": "e42cd6e5",
      "metadata": {
        "id": "e42cd6e5"
      },
      "outputs": [],
      "source": [
        "from sklearn.model_selection import RandomizedSearchCV # for tuning parameter\n",
        "model = RandomForestClassifier()\n",
        "\n",
        "param_grid = {\n",
        "    'n_estimators': [10, 50, 100],\n",
        "    'criterion': ['gini', 'entropy'],\n",
        "    'max_depth': [3, 6, 9, None],\n",
        "    'min_samples_split': range(2, 11),\n",
        "    'bootstrap': [True, False],\n",
        "}\n",
        "\n",
        "# lets Make a function for Grid Search CV\n",
        "def gridsearch_cv(model,param_grid, X_train, y_train):\n",
        "    clf = RandomizedSearchCV(model, param_grid, cv=5, scoring=\"accuracy\", n_jobs=2)\n",
        "    clf.fit(X_train, y_train)\n",
        "    print(\"The best estimator is \" + str(clf.best_estimator_))\n",
        "    print(\"The best score is \" + str(clf.best_score_))\n",
        "\n",
        "gridsearch_cv(model, param_grid, X, y)"
      ]
    }
  ],
  "metadata": {
    "kernelspec": {
      "display_name": "Python 3 (ipykernel)",
      "language": "python",
      "name": "python3"
    },
    "language_info": {
      "codemirror_mode": {
        "name": "ipython",
        "version": 3
      },
      "file_extension": ".py",
      "mimetype": "text/x-python",
      "name": "python",
      "nbconvert_exporter": "python",
      "pygments_lexer": "ipython3",
      "version": "3.10.8"
    },
    "colab": {
      "provenance": [],
      "include_colab_link": true
    }
  },
  "nbformat": 4,
  "nbformat_minor": 5
}