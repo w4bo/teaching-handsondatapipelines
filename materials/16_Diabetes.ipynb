{
  "cells": [
    {
      "cell_type": "markdown",
      "metadata": {
        "id": "view-in-github",
        "colab_type": "text"
      },
      "source": [
        "<a href=\"https://colab.research.google.com/github/w4bo/handsOnDataPipelines/blob/main/01-MachineLearning/06_Diabetes.ipynb\" target=\"_parent\"><img src=\"https://colab.research.google.com/assets/colab-badge.svg\" alt=\"Open In Colab\"/></a>"
      ]
    },
    {
      "cell_type": "markdown",
      "metadata": {
        "id": "n9xbo7UdQbaz"
      },
      "source": [
        "# The `Diabetes` challenge\n",
        "\n",
        "### Goal\n",
        "\n",
        "It is your job to predict the `Outcome` of diabetes for each patient. \n",
        "\n",
        "### TODO\n",
        "\n",
        "You are allowed to use `numpy`, `pandas`, `matplotlib`, `sns`, and `sk-learn` Python libraries. You can import any model from `sk-learn`.\n",
        "\n",
        "You are asked to fulfill the following steps; remember to write your insights on the dataset in the card below.\n",
        "\n",
        "1. Feature pre-processing (e.g., remove useless features, impute missing values, encode some features)\n",
        "2. Verify the distribution of \"Outcome\" values\n",
        "3. Check pairwise correlations among features\n",
        "4. Split training and test data. When splitting train and test datasets, the test dataset should contain 30% of the data.\n",
        "5. Plot the training dataset in 2D, are the outcomes separated?\n",
        "6. Train at least two ML classification models; submissions are evaluated using the accuracy score.\n",
        "7. Perform hyperparameter optimization for at least one model"
      ]
    },
    {
      "cell_type": "code",
      "execution_count": null,
      "metadata": {
        "id": "0XZLeoy-QVjK"
      },
      "outputs": [],
      "source": [
        "# Briefly explain *HERE* the overall steps of your solution (e.g., what did you do and why).\n",
        "# Briefly write the extracted outcome/insights of each of the previous points here. "
      ]
    },
    {
      "cell_type": "code",
      "execution_count": null,
      "metadata": {
        "_cell_guid": "417ebd30-953c-492a-b185-9bb2742e9fee",
        "_uuid": "f118af7ce42b355fae7faa8db9d5d0157611517d",
        "id": "hfFvjMJoQba0",
        "jupyter": {
          "outputs_hidden": true
        }
      },
      "outputs": [],
      "source": [
        "import matplotlib.pyplot as plt\n",
        "import numpy as np\n",
        "import os\n",
        "import pandas as pd\n",
        "import random\n",
        "from scipy.stats import randint\n",
        "import seaborn as sns\n",
        "from sklearn import metrics\n",
        "\n",
        "# SEED all random generators\n",
        "seed = 42\n",
        "random.seed(seed)\n",
        "os.environ['PYTHONHASHSEED'] = str(seed)\n",
        "np.random.seed(seed)\n",
        "\n",
        "df = pd.read_csv(\"https://raw.githubusercontent.com/w4bo/2022-bbs-dm/main/notebooks/datasets/diabetes.mod.csv\")\n",
        "df"
      ]
    }
  ],
  "metadata": {
    "colab": {
      "name": "06-Diabetes.ipynb",
      "provenance": [],
      "collapsed_sections": [],
      "include_colab_link": true
    },
    "kernelspec": {
      "display_name": "Python 3 (ipykernel)",
      "language": "python",
      "name": "python3"
    },
    "language_info": {
      "codemirror_mode": {
        "name": "ipython",
        "version": 3
      },
      "file_extension": ".py",
      "mimetype": "text/x-python",
      "name": "python",
      "nbconvert_exporter": "python",
      "pygments_lexer": "ipython3",
      "version": "3.10.4"
    }
  },
  "nbformat": 4,
  "nbformat_minor": 0
}