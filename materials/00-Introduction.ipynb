{
 "cells": [
  {
   "cell_type": "markdown",
   "id": "0abc0a55",
   "metadata": {
    "colab_type": "text",
    "id": "view-in-github",
    "slideshow": {
     "slide_type": "slide"
    }
   },
   "source": [
    "<a href=\"https://colab.research.google.com/github/w4bo/2023-asaier-datamining/blob/main/materials/00-Introduction.ipynb\" target=\"_parent\"><img src=\"https://colab.research.google.com/assets/colab-badge.svg\" alt=\"Open In Colab\"/></a>"
   ]
  },
  {
   "cell_type": "markdown",
   "id": "a4956fe0",
   "metadata": {
    "id": "a4956fe0",
    "slideshow": {
     "slide_type": "slide"
    }
   },
   "source": [
    "# Data Mining\n",
    "\n",
    "Matteo Francia, Ph.D. [(contact)](mailto:m.francia@unibo.it)\n",
    "- Assistant professor @ UniBO\n",
    "- Teaching *Big Data and Cloud Platforms* and *Principles of Informatics*\n",
    "- Research topics: big data, spatio-temporal data, and precision agriculture"
   ]
  },
  {
   "cell_type": "markdown",
   "id": "ec4262ef",
   "metadata": {
    "id": "ec4262ef",
    "slideshow": {
     "slide_type": "slide"
    }
   },
   "source": [
    "I am part of the Business Intelligence Group (https://big.csr.unibo.it/)\n",
    "\n",
    "Thanks to E. Gallinucci, M. Golfarelli, S. Rizzi, J. Giovanelli, C. Forresi for the shared effort and materials\n",
    "\n",
    "![image](https://github.com/w4bo/welaser/assets/18005592/c398fd10-7621-4867-adaf-59890eb26dd3)\n",
    "\n"
   ]
  },
  {
   "cell_type": "markdown",
   "id": "744480eb",
   "metadata": {
    "id": "744480eb",
    "slideshow": {
     "slide_type": "slide"
    }
   },
   "source": [
    "![image](https://github.com/w4bo/2023-asaier-datamining/assets/18005592/2661d54a-1860-4a11-bab7-7a20e395bf4b)\n"
   ]
  },
  {
   "cell_type": "markdown",
   "id": "d0cb85fc",
   "metadata": {
    "id": "d0cb85fc",
    "slideshow": {
     "slide_type": "slide"
    }
   },
   "source": [
    "**Data mining**: the interdisciplinary process of extracting and discovering patterns in large data sets involving methods at the intersection of machine learning, statistics, and database systems.\n",
    "\n",
    "- Aside from the raw analysis step, it also involves:\n",
    "    1. database and data management aspects,\n",
    "    2. data pre-processing,\n",
    "    3. model and inference considerations,\n",
    "    4. interestingness metrics,\n",
    "    5. complexity considerations,\n",
    "    6. post-processing of discovered structures, and\n",
    "    7. visualization.\n",
    "- The term \"data mining\" is a misnomer: the goal is not the extraction (mining) of data itself"
   ]
  },
  {
   "cell_type": "markdown",
   "id": "62749f16",
   "metadata": {
    "id": "62749f16",
    "slideshow": {
     "slide_type": "slide"
    }
   },
   "source": [
    "Why?\n",
    "\n",
    "The amount of data stored on computer is constantly increasing\n",
    "- IoT data\n",
    "- Social data\n",
    "- Data on purchases / tax receipts\n",
    "- Banking and credit card transactions\n",
    "\n",
    "Hardware becomes more powerful and cheaper each day\n",
    "\n",
    "Competitive pressure is constantly growing\n",
    "- The information resource is a precious asset to overcoming competitors"
   ]
  },
  {
   "cell_type": "markdown",
   "id": "a3c2bd31",
   "metadata": {
    "id": "a3c2bd31",
    "slideshow": {
     "slide_type": "slide"
    }
   },
   "source": [
    "Why?\n",
    "\n",
    "- Most of the information on the data is not directly apparent\n",
    "- Humans can take weeks to find useful information\n",
    "- Most of the data has never been analyzed\n",
    "\n",
    "![image](https://github.com/w4bo/2023-asaier-datamining/assets/18005592/8fae400e-6c36-4f66-9b02-46f822b03626)\n"
   ]
  },
  {
   "cell_type": "markdown",
   "id": "eeced931",
   "metadata": {
    "id": "eeced931",
    "slideshow": {
     "slide_type": "slide"
    }
   },
   "source": [
    "Although strongly interrelated, **machine learning** is not equal to **data mining** which indicates the computational process of pattern discovery in large datasets using machine learning methods, artificial intelligence, statistics and databases.\n",
    "\n",
    "Apart from the actual analysis phase, data mining covers aspects of:\n",
    "- Data management and pre-processing\n",
    "- Modeling\n",
    "- Identification of metrics of interest\n",
    "- Visualization\n",
    "\n",
    "![image](https://github.com/w4bo/welaser/assets/18005592/0dd9cc60-9741-414d-b856-3d2f6de83596)\n"
   ]
  },
  {
   "cell_type": "markdown",
   "id": "99cf0ace",
   "metadata": {
    "id": "99cf0ace",
    "slideshow": {
     "slide_type": "slide"
    }
   },
   "source": [
    "A **pattern** is a synthetic representation rich in semantics of a set of data; usually expresses a recurring pattern in data, but can also express an exceptional pattern\n",
    "\n",
    "A pattern must be:\n",
    "- Valid on data with a certain degree of confidence\n",
    "- It can be understood from the syntax and semantic point of view, so that the user can interpret it\n",
    "- Previously unknown and potentially useful, so that the user can take actions accordingly"
   ]
  },
  {
   "cell_type": "markdown",
   "id": "21155500",
   "metadata": {
    "id": "21155500",
    "slideshow": {
     "slide_type": "slide"
    }
   },
   "source": [
    "Examples of pattern types:\n",
    "    \n",
    "- **Association rules**: Let you determine the logical implications of the dataset, and then identify the groups of affinity between objects\n",
    "- **Classifiers**: Allow you to derive a model for classifying data according to a set of a priori assigned classes\n",
    "- **Decision trees**: are special type of classifiers that allow to identify, in order of importance, the causes that lead to an event occurring\n",
    "- **Clustering**: groups elements in a set, depending on their characteristics, of apriori unknow classes\n",
    "- **Time series**: they allow the detection of recurring or atypical patterns in complex data sequences"
   ]
  },
  {
   "cell_type": "markdown",
   "id": "78e12f17",
   "metadata": {
    "id": "78e12f17",
    "slideshow": {
     "slide_type": "slide"
    }
   },
   "source": [
    "Data Mining Bets\n",
    "\n",
    "- Scalability\n",
    "- Multidimensionality of the data set\n",
    "- Complexity and heterogeneity of the data\n",
    "- Data quality\n",
    "- Data Properties\n",
    "- Privacy Keeping\n",
    "- Processing in real-time"
   ]
  }
 ],
 "metadata": {
  "celltoolbar": "Slideshow",
  "colab": {
   "include_colab_link": true,
   "provenance": []
  },
  "kernelspec": {
   "display_name": "Python 3 (ipykernel)",
   "language": "python",
   "name": "python3"
  },
  "language_info": {
   "codemirror_mode": {
    "name": "ipython",
    "version": 3
   },
   "file_extension": ".py",
   "mimetype": "text/x-python",
   "name": "python",
   "nbconvert_exporter": "python",
   "pygments_lexer": "ipython3",
   "version": "3.11.4"
  }
 },
 "nbformat": 4,
 "nbformat_minor": 5
}
